version https://git-lfs.github.com/spec/v1
oid sha256:ba396817495312080ab4b20b01795ee7faef3a0fa63b1e56d78ad01d2ac39e4e
size 27168406
